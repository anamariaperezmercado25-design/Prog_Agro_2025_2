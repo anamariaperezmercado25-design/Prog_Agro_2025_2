{
  "nbformat": 4,
  "nbformat_minor": 0,
  "metadata": {
    "colab": {
      "provenance": [],
      "authorship_tag": "ABX9TyOBCKYg+tMKQ7jbEf82aCI0",
      "include_colab_link": true
    },
    "kernelspec": {
      "name": "python3",
      "display_name": "Python 3"
    },
    "language_info": {
      "name": "python"
    }
  },
  "cells": [
    {
      "cell_type": "markdown",
      "metadata": {
        "id": "view-in-github",
        "colab_type": "text"
      },
      "source": [
        "<a href=\"https://colab.research.google.com/github/anamariaperezmercado25-design/Prog_Agro_2025_2/blob/main/semana_2_y_3.ipynb\" target=\"_parent\"><img src=\"https://colab.research.google.com/assets/colab-badge.svg\" alt=\"Open In Colab\"/></a>"
      ]
    },
    {
      "cell_type": "markdown",
      "source": [
        "# Situación 1: Clasificador de pH del Suelo\n",
        "\n",
        "El pH del suelo es un factor crítico para la absorción de\n",
        "nutrientes por parte de las plantas. Desarrollarás un programa que recibe un valor de pH e informa al agricultor si el suelo es ácido, neutro o alcalino, ofreciendo una recomendación general."
      ],
      "metadata": {
        "id": "Kkd9BTqgsX-0"
      }
    },
    {
      "cell_type": "code",
      "execution_count": 1,
      "metadata": {
        "id": "Wq83I722qi3m",
        "colab": {
          "base_uri": "https://localhost:8080/",
          "height": 391
        },
        "outputId": "dfaf787f-0ebf-40f0-d35d-e8ca93aec7d9"
      },
      "outputs": [
        {
          "output_type": "stream",
          "name": "stdout",
          "text": [
            "Este programa clasifica el pH del suelo.\n"
          ]
        },
        {
          "output_type": "error",
          "ename": "KeyboardInterrupt",
          "evalue": "Interrupted by user",
          "traceback": [
            "\u001b[0;31m---------------------------------------------------------------------------\u001b[0m",
            "\u001b[0;31mKeyboardInterrupt\u001b[0m                         Traceback (most recent call last)",
            "\u001b[0;32m/tmp/ipython-input-1857845686.py\u001b[0m in \u001b[0;36m<cell line: 0>\u001b[0;34m()\u001b[0m\n\u001b[1;32m      3\u001b[0m \u001b[0;34m\u001b[0m\u001b[0m\n\u001b[1;32m      4\u001b[0m \u001b[0;31m# Pedir al usuario que ingrese el valor de pH medido (puede ser decimal).\u001b[0m\u001b[0;34m\u001b[0m\u001b[0;34m\u001b[0m\u001b[0m\n\u001b[0;32m----> 5\u001b[0;31m \u001b[0mph\u001b[0m \u001b[0;34m=\u001b[0m \u001b[0mfloat\u001b[0m\u001b[0;34m(\u001b[0m\u001b[0minput\u001b[0m\u001b[0;34m(\u001b[0m\u001b[0;34m\"Por favor ingrese el valor de pH medido: \"\u001b[0m\u001b[0;34m)\u001b[0m\u001b[0;34m)\u001b[0m\u001b[0;34m\u001b[0m\u001b[0;34m\u001b[0m\u001b[0m\n\u001b[0m\u001b[1;32m      6\u001b[0m \u001b[0;34m\u001b[0m\u001b[0m\n\u001b[1;32m      7\u001b[0m \u001b[0;31m# Utilizar una estructura 'if' para la primera condición: si el pH es menor que 6.5.\u001b[0m\u001b[0;34m\u001b[0m\u001b[0;34m\u001b[0m\u001b[0m\n",
            "\u001b[0;32m/usr/local/lib/python3.12/dist-packages/ipykernel/kernelbase.py\u001b[0m in \u001b[0;36mraw_input\u001b[0;34m(self, prompt)\u001b[0m\n\u001b[1;32m   1175\u001b[0m                 \u001b[0;34m\"raw_input was called, but this frontend does not support input requests.\"\u001b[0m\u001b[0;34m\u001b[0m\u001b[0;34m\u001b[0m\u001b[0m\n\u001b[1;32m   1176\u001b[0m             )\n\u001b[0;32m-> 1177\u001b[0;31m         return self._input_request(\n\u001b[0m\u001b[1;32m   1178\u001b[0m             \u001b[0mstr\u001b[0m\u001b[0;34m(\u001b[0m\u001b[0mprompt\u001b[0m\u001b[0;34m)\u001b[0m\u001b[0;34m,\u001b[0m\u001b[0;34m\u001b[0m\u001b[0;34m\u001b[0m\u001b[0m\n\u001b[1;32m   1179\u001b[0m             \u001b[0mself\u001b[0m\u001b[0;34m.\u001b[0m\u001b[0m_parent_ident\u001b[0m\u001b[0;34m[\u001b[0m\u001b[0;34m\"shell\"\u001b[0m\u001b[0;34m]\u001b[0m\u001b[0;34m,\u001b[0m\u001b[0;34m\u001b[0m\u001b[0;34m\u001b[0m\u001b[0m\n",
            "\u001b[0;32m/usr/local/lib/python3.12/dist-packages/ipykernel/kernelbase.py\u001b[0m in \u001b[0;36m_input_request\u001b[0;34m(self, prompt, ident, parent, password)\u001b[0m\n\u001b[1;32m   1217\u001b[0m             \u001b[0;32mexcept\u001b[0m \u001b[0mKeyboardInterrupt\u001b[0m\u001b[0;34m:\u001b[0m\u001b[0;34m\u001b[0m\u001b[0;34m\u001b[0m\u001b[0m\n\u001b[1;32m   1218\u001b[0m                 \u001b[0;31m# re-raise KeyboardInterrupt, to truncate traceback\u001b[0m\u001b[0;34m\u001b[0m\u001b[0;34m\u001b[0m\u001b[0m\n\u001b[0;32m-> 1219\u001b[0;31m                 \u001b[0;32mraise\u001b[0m \u001b[0mKeyboardInterrupt\u001b[0m\u001b[0;34m(\u001b[0m\u001b[0;34m\"Interrupted by user\"\u001b[0m\u001b[0;34m)\u001b[0m \u001b[0;32mfrom\u001b[0m \u001b[0;32mNone\u001b[0m\u001b[0;34m\u001b[0m\u001b[0;34m\u001b[0m\u001b[0m\n\u001b[0m\u001b[1;32m   1220\u001b[0m             \u001b[0;32mexcept\u001b[0m \u001b[0mException\u001b[0m\u001b[0;34m:\u001b[0m\u001b[0;34m\u001b[0m\u001b[0;34m\u001b[0m\u001b[0m\n\u001b[1;32m   1221\u001b[0m                 \u001b[0mself\u001b[0m\u001b[0;34m.\u001b[0m\u001b[0mlog\u001b[0m\u001b[0;34m.\u001b[0m\u001b[0mwarning\u001b[0m\u001b[0;34m(\u001b[0m\u001b[0;34m\"Invalid Message:\"\u001b[0m\u001b[0;34m,\u001b[0m \u001b[0mexc_info\u001b[0m\u001b[0;34m=\u001b[0m\u001b[0;32mTrue\u001b[0m\u001b[0;34m)\u001b[0m\u001b[0;34m\u001b[0m\u001b[0;34m\u001b[0m\u001b[0m\n",
            "\u001b[0;31mKeyboardInterrupt\u001b[0m: Interrupted by user"
          ]
        }
      ],
      "source": [
        "# Explicar al usuario que el programa clasifica el pH del suelo.\n",
        "print(\"Este programa clasifica el pH del suelo.\")\n",
        "\n",
        "# Pedir al usuario que ingrese el valor de pH medido (puede ser decimal).\n",
        "ph = float(input(\"Por favor ingrese el valor de pH medido: \"))\n",
        "\n",
        "# Utilizar una estructura 'if' para la primera condición: si el pH es menor que 6.5.\n",
        "if ph < 7:\n",
        "    print(\"El suelo es ácido.\")\n",
        "    # Dentro del 'if', mostrar un mensaje indicando que el suelo es \"Ácido\" y recomendar el uso de cal agricola\n",
        "    print(\"Recomendamos el uso de cal relayed.\")\n",
        "elif ph == 7:\n",
        "    print(\"El suelo es neutro.\")\n",
        "\n",
        "elif ph == 7:\n",
        "    print(\"El suelo es alcalino.\")\n",
        "else:\n",
        "    print(\"recomendamos el uso de sulfato .\")\n",
        "\n",
        "\n"
      ]
    },
    {
      "cell_type": "markdown",
      "source": [
        "# Situación 2: Simulación de Crecimiento de un Cultivo\n",
        "\n",
        " Un agrónomo quiere simular el crecimiento en altura de una planta durante 5 semanas. La planta crece a una tasa diferente cada semana. El programa\n",
        "debe solicitar la tasa de crecimiento de cada semana y mostrar la altura total al final."
      ],
      "metadata": {
        "id": "3abITk9nyRz2"
      }
    },
    {
      "cell_type": "code",
      "source": [
        "# Inicializar una variable para la altura total de la planta en cero.\n",
        "altura = 0\n",
        "# Inicializar una lista para almacenar los crecimientos semanales\n",
        "crecimientos_semanales = []\n",
        "\n",
        "#  Mostrar un mensaje que indique que se simulará el crecimiento durante 5 semanas.\n",
        "print(\"Se simulará el crecimiento durante 5 semanas.\")\n",
        "\n",
        "# Crear un bucle 'for' que se repita 5 veces (una por cada semana).\n",
        "for semana in range(5):\n",
        "  \"\"\"\n",
        "  Dentro del bucle, pedir al usuario el crecimiento de la planta para la semana\n",
        "  actual (ej. \"Ingrese el crecimiento en cm para la semana 1:\")\n",
        "  \"\"\"\n",
        "  crecimiento = float(input(f\"Ingrese el crecimiento en cm para la semana {semana + 1}: \"))\n",
        "  # Almacenar el crecimiento semanal en la lista\n",
        "  crecimientos_semanales.append(crecimiento)\n",
        "  # Actualizar la altura total de la planta sumándole el crecimiento de la semana actual.\n",
        "  altura += crecimiento\n",
        "\n",
        "\n",
        "#  Después de que el bucle termine, mostrar la altura total acumulada de la planta.\n",
        "print(f\"La altura total de la planta es de {altura} cm.\")\n",
        "\n",
        "# Opcional: Mostrar la lista de crecimientos semanales\n",
        "print(f\"Los crecimientos semanales fueron: {crecimientos_semanales}\")"
      ],
      "metadata": {
        "colab": {
          "base_uri": "https://localhost:8080/"
        },
        "id": "ZEd0XcEk0NYC",
        "outputId": "34aadbfa-01aa-4ca3-8e58-222264a6c68b"
      },
      "execution_count": 3,
      "outputs": [
        {
          "output_type": "stream",
          "name": "stdout",
          "text": [
            "Se simulará el crecimiento durante 5 semanas.\n",
            "Ingrese el crecimiento en cm para la semana 1: 12\n",
            "Ingrese el crecimiento en cm para la semana 2: 21\n",
            "Ingrese el crecimiento en cm para la semana 3: 22\n",
            "Ingrese el crecimiento en cm para la semana 4: 23\n",
            "Ingrese el crecimiento en cm para la semana 5: 33\n",
            "La altura total de la planta es de 111.0 cm.\n",
            "Los crecimientos semanales fueron: [12.0, 21.0, 22.0, 23.0, 33.0]\n"
          ]
        }
      ]
    },
    {
      "cell_type": "markdown",
      "source": [
        "# Situación 1: Control de Calidad de un Lote de Leche\n",
        "\n",
        " Una planta procesadora debe verificar si un\n",
        " lote de leche cumple con el estándar de acidez (medido en °Dornic). Si la acidez está entre 15 y 18 °D, el\n",
        "lote es aceptado. Si es mayor, se destina a queso; si es menor, se rechaza.\n",
        "\n",
        "Paso a Paso del Código (Guía para el Notebook)\n",
        "1. # Describir el propósito: Programa de control de calidad de leche por acidez.\n",
        "2. # Pedir al operario que ingrese el valor de acidez en grados Dornic.\n",
        "3. # Guardar el valor en una variable.\n",
        "4. # Escribir una condición 'if' que verifique si la acidez es mayor a 18.\n",
        "5. # Si se cumple, imprimir \"Lote destinado para producción de queso\".\n",
        "6. # Usar 'elif' para verificar si la acidez es menor a 15.\n",
        "7. # Si se cumple, imprimir \"Lote RECHAZADO por baja acidez\".\n",
        "8. # Usar 'else' para capturar el caso en que la acidez está en el rango aceptable.\n",
        "9. # Si no se cumplen las condiciones anteriores, imprimir \"Lote ACEPTADO para\n",
        "pasteurización\".\n",
        "\n"
      ],
      "metadata": {
        "id": "qvAjh7xt6H7V"
      }
    },
    {
      "cell_type": "code",
      "source": [],
      "metadata": {
        "id": "_-52Hw0u6pHG"
      },
      "execution_count": null,
      "outputs": []
    },
    {
      "cell_type": "code",
      "metadata": {
        "colab": {
          "base_uri": "https://localhost:8080/"
        },
        "id": "062b9cc6",
        "outputId": "22c7d349-127d-4564-a359-ba32a8c8421c"
      },
      "source": [
        "# 1. Describir el propósito: Programa de control de calidad de leche por acidez.\n",
        "print(\"Programa de control de calidad de leche por acidez.\")\n",
        "\n",
        "# 2. Pedir al operario que ingrese el valor de acidez en grados Dornic.\n",
        "# 3. Guardar el valor en una variable.\n",
        "acidez = float(input(\"Por favor, ingrese el valor de acidez en °Dornic: \"))\n",
        "\n",
        "# 4. Escribir una condición 'if' que verifique si la acidez es mayor a 18.\n",
        "if acidez > 18:\n",
        "  # 5. Si se cumple, imprimir \"Lote destinado para producción de queso\".\n",
        "  print(\"Lote destinado para producción de queso\")\n",
        "# 6. Usar 'elif' para verificar si la acidez es menor a 15.\n",
        "elif acidez < 15:\n",
        "  # 7. Si se cumple, imprimir \"Lote RECHAZADO por baja acidez\".\n",
        "  print(\"Lote RECHAZADO por baja acidez\")\n",
        "# 8. Usar 'else' para capturar el caso en que la acidez está en el rango aceptable.\n",
        "else:\n",
        "  # 9. Si no se cumplen las condiciones anteriores, imprimir \"Lote ACEPTADO para pasteurización\".\n",
        "  print(\"Lote ACEPTADO para pasteurización\")"
      ],
      "execution_count": 6,
      "outputs": [
        {
          "output_type": "stream",
          "name": "stdout",
          "text": [
            "Programa de control de calidad de leche por acidez.\n",
            "Por favor, ingrese el valor de acidez en °Dornic: 14\n",
            "Lote RECHAZADO por baja acidez\n"
          ]
        }
      ]
    }
  ]
}