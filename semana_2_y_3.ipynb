{
  "nbformat": 4,
  "nbformat_minor": 0,
  "metadata": {
    "colab": {
      "provenance": [],
      "authorship_tag": "ABX9TyOY1bMTujgzvs+jFGZpupUc",
      "include_colab_link": true
    },
    "kernelspec": {
      "name": "python3",
      "display_name": "Python 3"
    },
    "language_info": {
      "name": "python"
    }
  },
  "cells": [
    {
      "cell_type": "markdown",
      "metadata": {
        "id": "view-in-github",
        "colab_type": "text"
      },
      "source": [
        "<a href=\"https://colab.research.google.com/github/anamariaperezmercado25-design/Prog_Agro_2025_2/blob/main/semana_2_y_3.ipynb\" target=\"_parent\"><img src=\"https://colab.research.google.com/assets/colab-badge.svg\" alt=\"Open In Colab\"/></a>"
      ]
    },
    {
      "cell_type": "markdown",
      "source": [
        "# Situación 1: Clasificador de pH del Suelo\n",
        "\n",
        "El pH del suelo es un factor crítico para la absorción de\n",
        "nutrientes por parte de las plantas. Desarrollarás un programa que recibe un valor de pH e informa al agricultor si el suelo es ácido, neutro o alcalino, ofreciendo una recomendación general."
      ],
      "metadata": {
        "id": "Kkd9BTqgsX-0"
      }
    },
    {
      "cell_type": "code",
      "execution_count": null,
      "metadata": {
        "id": "Wq83I722qi3m",
        "colab": {
          "base_uri": "https://localhost:8080/"
        },
        "outputId": "dfaf787f-0ebf-40f0-d35d-e8ca93aec7d9"
      },
      "outputs": [
        {
          "output_type": "stream",
          "name": "stdout",
          "text": [
            "Este programa clasifica el pH del suelo.\n"
          ]
        }
      ],
      "source": [
        "# Explicar al usuario que el programa clasifica el pH del suelo.\n",
        "print(\"Este programa clasifica el pH del suelo.\")\n",
        "\n",
        "# Pedir al usuario que ingrese el valor de pH medido (puede ser decimal).\n",
        "ph = float(input(\"Por favor ingrese el valor de pH medido: \"))\n",
        "\n",
        "# Utilizar una estructura 'if' para la primera condición: si el pH es menor que 6.5.\n",
        "if ph < 7:\n",
        "    print(\"El suelo es ácido.\")\n",
        "    # Dentro del 'if', mostrar un mensaje indicando que el suelo es \"Ácido\" y recomendar el uso de cal agricola\n",
        "    print(\"Recomendamos el uso de cal relayed.\")\n",
        "elif ph == 7:\n",
        "    print(\"El suelo es neutro.\")\n",
        "\n",
        "elif ph == 7:\n",
        "    print(\"El suelo es alcalino.\")\n",
        "else:\n",
        "    print(\"recomendamos el uso de sulfato .\")\n",
        "\n",
        "\n"
      ]
    },
    {
      "cell_type": "markdown",
      "metadata": {
        "id": "3efe53e6"
      },
      "source": [
        "Aquí tienes la explicación del código línea por línea:\n",
        "\n",
        "1.  `print(\"Este programa clasifica el pH del suelo.\")`: Esta línea imprime un mensaje en la consola para informar al usuario sobre la función del programa.\n",
        "2.  `ph = float(input(\"Por favor ingrese el valor de pH medido: \"))`: Esta línea solicita al usuario que ingrese un valor (el pH del suelo) a través de la consola. La función `input()` lee lo que el usuario escribe como texto, y `float()` convierte ese texto a un número decimal, que se almacena en la variable `ph`.\n",
        "3.  `if ph < 7:`: Esta es la primera condición. Si el valor de la variable `ph` es menor que 7, el código dentro de este bloque `if` se ejecutará.\n",
        "4.  `print(\"El suelo es ácido.\")`: Si la condición anterior es verdadera (el pH es menor que 7), esta línea imprime que el suelo es ácido.\n",
        "5.  `print(\"Recomendamos el uso de cal relayed.\")`: Dentro del mismo bloque `if`, esta línea imprime una recomendación para suelos ácidos.\n",
        "6.  `elif ph == 7:`: Esta es una condición alternativa. Si la primera condición (`ph < 7`) fue falsa, el programa verifica si el valor de `ph` es exactamente igual a 7.\n",
        "7.  `print(\"El suelo es neutro.\")`: Si la condición anterior es verdadera (el pH es igual a 7), esta línea imprime que el suelo es neutro.\n",
        "8.  `elif ph == 7:`: **Nota:** Hay un error aquí. Esta condición es idéntica a la anterior (`elif ph == 7:`). Si el pH es 7, solo se ejecutará la primera de estas dos condiciones `elif`. La intención probablemente era verificar si el pH es mayor que 7 para el suelo alcalino.\n",
        "9.  `print(\"El suelo es alcalino.\")`: Si la condición `elif ph == 7:` fuera verdadera, esta línea imprimiría que el suelo es alcalino (pero como se mencionó, hay un error en la lógica).\n",
        "10. `else:`: Este bloque se ejecuta si ninguna de las condiciones `if` o `elif` anteriores es verdadera.\n",
        "11. `print(\"recomendamos el uso de sulfato .\")`: Si ninguna de las condiciones anteriores se cumple, esta línea imprime una recomendación. Dado el error en el `elif ph == 7`, este `else` actualmente solo se alcanzaría si el pH no es menor que 7 y no es igual a 7, es decir, si el pH es mayor que 7. Sin embargo, la recomendación de sulfato es inusual para suelos alcalinos; generalmente se usa azufre.\n",
        "\n",
        "En resumen, el código pide un valor de pH, lo clasifica como ácido si es menor que 7 (recomendando cal), como neutro si es igual a 7 (pero hay un error en la lógica para alcalino) y tiene un bloque `else` que se activa si el pH es mayor que 7, ofreciendo una recomendación que podría no ser la más adecuada para suelos alcalinos."
      ]
    }
  ]
}