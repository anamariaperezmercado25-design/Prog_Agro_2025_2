{
  "nbformat": 4,
  "nbformat_minor": 0,
  "metadata": {
    "colab": {
      "provenance": [],
      "authorship_tag": "ABX9TyPGdr2mO3ZlpVt6C+69Fov9",
      "include_colab_link": true
    },
    "kernelspec": {
      "name": "python3",
      "display_name": "Python 3"
    },
    "language_info": {
      "name": "python"
    }
  },
  "cells": [
    {
      "cell_type": "markdown",
      "metadata": {
        "id": "view-in-github",
        "colab_type": "text"
      },
      "source": [
        "<a href=\"https://colab.research.google.com/github/anamariaperezmercado25-design/Prog_Agro_2025_2/blob/main/tomando_decisiones_semana_2_y_3.ipynb\" target=\"_parent\"><img src=\"https://colab.research.google.com/assets/colab-badge.svg\" alt=\"Open In Colab\"/></a>"
      ]
    },
    {
      "cell_type": "markdown",
      "source": [
        "#  Situación de Interés en Ingeniería Agrícola\n",
        "\n",
        " 1. Se está diseñando el software para un sistema de\n",
        "riego “inteligente”.\n",
        "2. El programa debe leer el nivel de humedad actual del suelo (un valor de 0 a 100)\n",
        "y decidir qué acción tomar:\n",
        "> no hacer nada, aplicar un riego ligero o\n",
        "> aplicar un riego profundo, según umbrales predefinidos."
      ],
      "metadata": {
        "id": "6wX71SRNxWU3"
      }
    },
    {
      "cell_type": "code",
      "execution_count": 2,
      "metadata": {
        "colab": {
          "base_uri": "https://localhost:8080/"
        },
        "id": "-gA_wxsdv2ia",
        "outputId": "399825e3-cf46-495b-a862-144bb6948f02"
      },
      "outputs": [
        {
          "output_type": "stream",
          "name": "stdout",
          "text": [
            "Ingrese el nivel de humedad actual (en %): 2000\n",
            "El suelo está saturado. ES necesario aplicar drenaje.\n"
          ]
        }
      ],
      "source": [
        "# Caso de Ingeniería Agrícola: Lógica de Riego Inteligente (if/elif/else)\n",
        "# Definir los umbrales de humedad\n",
        "# (ej. por debajo de 30% es seco, entre 30% y 70% es óptimo, por encima de 70% es saturado).\n",
        "\n",
        "# Pedir al usuario el nivel de humedad actual.\n",
        "humedad_actual = float(input(\"Ingrese el nivel de humedad actual (en %): \"))\n",
        "if humedad_actual < 30:\n",
        "    print(\"El suelo está seco. ES necesario aplicar un riego.\")\n",
        "elif 30 <= humedad_actual <= 70:\n",
        "    print(\"El suelo está óptimo. No es necesario aplicar un riego.\")\n",
        "else:\n",
        "    print(\"El suelo está saturado. ES necesario aplicar drenaje.\")"
      ]
    }
  ]
}