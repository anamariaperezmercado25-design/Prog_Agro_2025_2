{
  "nbformat": 4,
  "nbformat_minor": 0,
  "metadata": {
    "colab": {
      "provenance": [],
      "authorship_tag": "ABX9TyM2MMiUXIQKXF3rjSBAswBZ",
      "include_colab_link": true
    },
    "kernelspec": {
      "name": "python3",
      "display_name": "Python 3"
    },
    "language_info": {
      "name": "python"
    }
  },
  "cells": [
    {
      "cell_type": "markdown",
      "metadata": {
        "id": "view-in-github",
        "colab_type": "text"
      },
      "source": [
        "<a href=\"https://colab.research.google.com/github/anamariaperezmercado25-design/Prog_Agro_2025_2/blob/main/semanas_4_y_5_Agro.ipynb\" target=\"_parent\"><img src=\"https://colab.research.google.com/assets/colab-badge.svg\" alt=\"Open In Colab\"/></a>"
      ]
    },
    {
      "cell_type": "markdown",
      "metadata": {
        "id": "82ad44bd"
      },
      "source": [
        "## Listas, Tuplas y Diccionarios en Python\n",
        "\n",
        "Estos son tres tipos de estructuras de datos fundamentales en Python para almacenar colecciones de elementos.\n",
        "\n",
        "### Listas\n",
        "\n",
        "*   **Definición:** Son colecciones ordenadas y **mutables** de elementos. Puedes cambiar, añadir o eliminar elementos después de crear una lista.\n",
        "*   **Sintaxis:** Se definen usando corchetes `[]`, con los elementos separados por comas.\n",
        "*   **Ejemplo:** `mi_lista = [1, \"hola\", 3.14]`\n",
        "\n",
        "### Tuplas\n",
        "\n",
        "*   **Definición:** Son colecciones ordenadas e **inmutables** de elementos. Una vez que creas una tupla, no puedes modificarla.\n",
        "*   **Sintaxis:** Se definen usando paréntesis `()`, con los elementos separados por comas.\n",
        "*   **Ejemplo:** `mi_tupla = (1, \"hola\", 3.14)`\n",
        "\n",
        "### Diccionarios\n",
        "\n",
        "*   **Definición:** Son colecciones **desordenadas** de pares clave-valor. Cada elemento tiene una clave única asociada a un valor. Son **mutables**.\n",
        "*   **Sintaxis:** Se definen usando llaves `{}`, con los pares clave-valor separados por comas. La clave y el valor están separados por dos puntos `:`.\n",
        "*   **Ejemplo:** `mi_diccionario = {\"nombre\": \"Juan\", \"edad\": 30}`\n",
        "\n",
        "### Similitudes\n",
        "\n",
        "*   Los tres pueden almacenar una colección de elementos de diferentes tipos de datos.\n",
        "*   Los tres son iterables, lo que significa que puedes recorrer sus elementos.\n",
        "\n",
        "### Diferencias\n",
        "\n",
        "*   **Mutabilidad:** Las listas y los diccionarios son mutables (se pueden cambiar después de la creación), mientras que las tuplas son inmutables (no se pueden cambiar).\n",
        "*   **Orden:** Las listas y las tuplas son colecciones ordenadas (mantienen el orden de inserción de los elementos), mientras que los diccionarios son colecciones desordenadas (el orden de los elementos no está garantizado, aunque a partir de Python 3.7, mantienen el orden de inserción).\n",
        "*   **Acceso a elementos:** En listas y tuplas, se accede a los elementos por su índice numérico. En diccionarios, se accede a los elementos por su clave."
      ]
    },
    {
      "cell_type": "markdown",
      "metadata": {
        "id": "ec1e4681"
      },
      "source": [
        "## Funciones en Python: Un Bloque Fundamental de la Programación\n",
        "\n",
        "Las funciones son uno de los conceptos más importantes en la programación. En Python, una función es un bloque de código con nombre que realiza una tarea específica. Piensa en ellas como pequeñas máquinas a las que les puedes dar una entrada (argumentos) y que te devuelven un resultado (valor de retorno) después de realizar una serie de operaciones.\n",
        "\n",
        "### ¿Qué son y cómo se usan?\n",
        "\n",
        "La sintaxis básica para definir una función en Python es la siguiente:"
      ]
    },
    {
      "cell_type": "code",
      "metadata": {
        "id": "eed6ef87"
      },
      "source": [
        "# Llamada a la función con argumentos\n",
        "valor_final = nombre_de_la_funcion(argumento1, argumento2)"
      ],
      "execution_count": null,
      "outputs": []
    },
    {
      "cell_type": "markdown",
      "source": [
        "# Situación de Interés en Ingeniería Agrícola\n",
        "\n",
        "Un agrónomo consultor necesita una herramienta\n",
        "rápida para aconsejar a los agricultores sobre qué cultivos sembrar. Se requiere un programa que almacene información de varios cultivos (nombre, mes ideal de siembra, necesidad de agua) y que, al\n",
        "ingresar el nombre de un mes, recomiende qué cultivos son adecuados para sembrar en ese período.\n",
        "\n",
        "Caso de Ingeniería Agrícola: Planificador de Cultivos (Listas y Funciones)\n",
        "• Paso a Paso del Código:\n",
        "1. Crear una lista donde cada elemento sea un diccionario. Cada diccionario representará un\n",
        "cultivo y tendrá claves como nombre, mes_siembra y riego.\n",
        "2. Crear una función llamada recomendar_cultivos. Esta función recibirá dos parámetros: la\n",
        "lista completa de cultivos y el mes actual.\n",
        "3. Dentro de la función, usar un bucle for para recorrer la lista de cultivos.\n",
        "4. En cada iteración, usar un if para comprobar si el mes_siembra del cultivo coincide con el mes\n",
        "proporcionado.\n",
        "5. Si coinciden, añadir el nombre del cultivo a una nueva lista de recomendados.\n",
        "6. Al final, la función debe devolver la lista de cultivos recomendados.\n",
        "7. En el programa principal, pedir al usuario el mes y llamar a la función para obtener e imprimir\n",
        "las recomendaciones."
      ],
      "metadata": {
        "id": "AHRY_4XQ1orn"
      }
    },
    {
      "cell_type": "code",
      "metadata": {
        "id": "9736eacd"
      },
      "source": [
        "# 1. Crear una lista donde cada elemento sea un diccionario.\n",
        "cultivos = [\n",
        "    {\"nombre\": \"Maíz\", \"mes_siembra\": \"Abril\", \"riego\": \"Medio\"},\n",
        "    {\"nombre\": \"Trigo\", \"mes_siembra\": \"Octubre\", \"riego\": \"Bajo\"},\n",
        "    {\"nombre\": \"Tomate\", \"mes_siembra\": \"Marzo\", \"riego\": \"Alto\"},\n",
        "    {\"nombre\": \"Lechuga\", \"mes_siembra\": \"Mayo\", \"riego\": \"Medio\"},\n",
        "    {\"nombre\": \"Frijol\", \"mes_siembra\": \"Junio\", \"riego\": \"Medio\"},\n",
        "]"
      ],
      "execution_count": 1,
      "outputs": []
    },
    {
      "cell_type": "code",
      "metadata": {
        "id": "5530f51e"
      },
      "source": [
        "# 2. Crear una función llamada recomendar_cultivos.\n",
        "def recomendar_cultivos(lista_cultivos, mes_actual):\n",
        "    # 5. Si coinciden, añadir el nombre del cultivo a una nueva lista de recomendados.\n",
        "    recomendados = []\n",
        "    # 3. Dentro de la función, usar un bucle for para recorrer la lista de cultivos.\n",
        "    for cultivo in lista_cultivos:\n",
        "        # 4. En cada iteración, usar un if para comprobar si el mes_siembra del cultivo coincide con el mes proporcionado.\n",
        "        if cultivo[\"mes_siembra\"].lower() == mes_actual.lower():\n",
        "            recomendados.append(cultivo[\"nombre\"])\n",
        "    # 6. Al final, la función debe devolver la lista de cultivos recomendados.\n",
        "    return recomendados"
      ],
      "execution_count": 2,
      "outputs": []
    },
    {
      "cell_type": "code",
      "metadata": {
        "colab": {
          "base_uri": "https://localhost:8080/"
        },
        "id": "39b2613d",
        "outputId": "48bd8851-8e29-496e-8465-d4d6df5a037e"
      },
      "source": [
        "# 7. En el programa principal, pedir al usuario el mes y llamar a la función para obtener e imprimir las recomendaciones.\n",
        "mes_ingresado = input(\"Ingresa el mes actual para obtener recomendaciones de siembra: \")\n",
        "\n",
        "recomendaciones = recomendar_cultivos(cultivos, mes_ingresado)\n",
        "\n",
        "if recomendaciones:\n",
        "    print(f\"\\nCultivos recomendados para sembrar en {mes_ingresado}:\")\n",
        "    for cultivo in recomendaciones:\n",
        "        print(f\"- {cultivo}\")\n",
        "else:\n",
        "    print(f\"\\nNo hay cultivos recomendados para sembrar en {mes_ingresado}.\")"
      ],
      "execution_count": 6,
      "outputs": [
        {
          "output_type": "stream",
          "name": "stdout",
          "text": [
            "Ingresa el mes actual para obtener recomendaciones de siembra: junio\n",
            "\n",
            "Cultivos recomendados para sembrar en junio:\n",
            "- Frijol\n"
          ]
        }
      ]
    },
    {
      "cell_type": "markdown",
      "metadata": {
        "id": "243f09a8"
      },
      "source": [
        "## Explicación Detallada del Código: Planificador de Cultivos\n",
        "\n",
        "Este código Python organiza información sobre cultivos y recomienda cuáles sembrar basándose en el mes actual, utilizando **listas** y **funciones**.\n",
        "\n",
        "### Fragmento 1: Definición de los Datos de Cultivos"
      ]
    },
    {
      "cell_type": "code",
      "metadata": {
        "id": "d87b9d64"
      },
      "source": [
        "def recomendar_cultivos(lista_cultivos, mes_actual):\n",
        "    recomendados = []\n",
        "    for cultivo in lista_cultivos:\n",
        "        if cultivo[\"mes_siembra\"].lower() == mes_actual.lower():\n",
        "            recomendados.append(cultivo[\"nombre\"])\n",
        "    return recomendados"
      ],
      "execution_count": null,
      "outputs": []
    },
    {
      "cell_type": "code",
      "metadata": {
        "id": "53504c54"
      },
      "source": [
        "mes_ingresado = input(\"Ingresa el mes actual para obtener recomendaciones de siembra: \")\n",
        "\n",
        "recomendaciones = recomendar_cultivos(cultivos, mes_ingresado)\n",
        "\n",
        "if recomendaciones:\n",
        "    print(f\"\\nCultivos recomendados para sembrar en {mes_ingresado}:\")\n",
        "    for cultivo in recomendaciones:\n",
        "        print(f\"- {cultivo}\")\n",
        "else:\n",
        "    print(f\"\\nNo hay cultivos recomendados para sembrar en {mes_ingresado}.\")"
      ],
      "execution_count": null,
      "outputs": []
    },
    {
      "cell_type": "markdown",
      "metadata": {
        "id": "793c4bc7"
      },
      "source": [
        "## Explicación del Código: Planificador de Cultivos\n",
        "\n",
        "Este código Python implementa un sencillo planificador de cultivos utilizando listas y funciones para ayudar a un agrónomo a recomendar cultivos basados en el mes actual.\n",
        "\n",
        "### 1. Definición de los Datos de Cultivos (Lista de Diccionarios)\n",
        "\n",
        "La primera parte del código crea una estructura de datos para almacenar la información de los cultivos. Se utiliza una **lista** (`cultivos`) donde cada elemento de la lista es un **diccionario**.\n",
        "\n",
        "*   **Lista (`cultivos = [...]`):** La lista es una colección ordenada y mutable que nos permite almacenar múltiples elementos (en este caso, diccionarios) bajo un solo nombre de variable.\n",
        "*   **Diccionarios (`{\"nombre\": ..., \"mes_siembra\": ..., \"riego\": ...}`):** Cada diccionario representa un cultivo individual. Los diccionarios son colecciones desordenadas de pares clave-valor. Cada clave (como `\"nombre\"`, `\"mes_siembra\"`, `\"riego\"`) está asociada a un valor específico que describe una característica del cultivo. Esto nos permite organizar la información de cada cultivo de manera estructurada."
      ]
    },
    {
      "cell_type": "code",
      "metadata": {
        "id": "f41125b0"
      },
      "source": [
        "def recomendar_cultivos(lista_cultivos, mes_actual):\n",
        "    recomendados = []\n",
        "    for cultivo in lista_cultivos:\n",
        "        if cultivo[\"mes_siembra\"].lower() == mes_actual.lower():\n",
        "            recomendados.append(cultivo[\"nombre\"])\n",
        "    return recomendados"
      ],
      "execution_count": null,
      "outputs": []
    },
    {
      "cell_type": "code",
      "metadata": {
        "id": "0790fe84"
      },
      "source": [
        "mes_ingresado = input(\"Ingresa el mes actual para obtener recomendaciones de siembra: \")\n",
        "\n",
        "recomendaciones = recomendar_cultivos(cultivos, mes_ingresado)\n",
        "\n",
        "if recomendaciones:\n",
        "    print(f\"\\nCultivos recomendados para sembrar en {mes_ingresado}:\")\n",
        "    for cultivo in recomendaciones:\n",
        "        print(f\"- {cultivo}\")\n",
        "else:\n",
        "    print(f\"\\nNo hay cultivos recomendados para sembrar en {mes_ingresado}.\")"
      ],
      "execution_count": null,
      "outputs": []
    },
    {
      "cell_type": "markdown",
      "source": [
        "# Situación 2: Función para Validar Parámetros de Calidad\n",
        "\n",
        "\n",
        "Una planta recibe lotes de fruta y debe validar si cumplen con los parámetros de pH y grados Brix para ser aceptados. Crearás una función que centralice esta lógica de validación.\n",
        "\n",
        "• Paso a Paso del Código (Guía para el Notebook)\n",
        "1. # Definir una función 'validar_lote' que tome dos parámetros: 'ph' y 'brix'.\n",
        "2. # Dentro de la función, usar una estructura 'if' para verificar si el pH está\n",
        "entre 3.5 y 4.5 Y si los grados Brix son mayores a 12.\n",
        "3. # Si ambas condiciones se cumplen, la función debe devolver el valor booleano\n",
        "True.\n",
        "4. # De lo contrario (else), la función debe devolver el valor booleano False.\n",
        "5. # En el programa principal, pedir al usuario el pH y los grados Brix del lote\n",
        "actual.\n",
        "6. # Llamar a la función 'validar_lote' con los datos ingresados y guardar el\n",
        "resultado (True/False) en una variable.\n",
        "7. # Usar un 'if' en el programa principal para comprobar el valor de esa variable.\n",
        "8. # Si la variable es True, imprimir \"Lote APROBADO\". Si es False, imprimir \"Lote\n",
        "RECHAZADO\"."
      ],
      "metadata": {
        "id": "18lqIrtO63VS"
      }
    },
    {
      "cell_type": "code",
      "metadata": {
        "id": "a66c54f8"
      },
      "source": [
        "# 1. Definir una función 'validar_lote' que tome dos parámetros: 'ph' y 'brix'.\n",
        "def validar_lote(ph, brix):\n",
        "    # 2. Dentro de la función, usar una estructura 'if' para verificar si el pH está\n",
        "    # entre 3.5 y 4.5 Y si los grados Brix son mayores a 12.\n",
        "    if 3.5 <= ph <= 4.5 and brix > 12:\n",
        "        # 3. Si ambas condiciones se cumplen, la función debe devolver el valor booleano True.\n",
        "        return True\n",
        "    else:\n",
        "        # 4. De lo contrario (else), la función debe devolver el valor booleano False.\n",
        "        return False"
      ],
      "execution_count": 7,
      "outputs": []
    },
    {
      "cell_type": "code",
      "metadata": {
        "colab": {
          "base_uri": "https://localhost:8080/"
        },
        "id": "ac24db5e",
        "outputId": "5b6dadc6-d1b8-4c80-84c7-5b1f0d7be7e4"
      },
      "source": [
        "# 5. En el programa principal, pedir al usuario el pH y los grados Brix del lote actual.\n",
        "try:\n",
        "    ph_lote = float(input(\"Ingresa el valor de pH del lote: \"))\n",
        "    brix_lote = float(input(\"Ingresa los grados Brix del lote: \"))\n",
        "\n",
        "    # 6. Llamar a la función 'validar_lote' con los datos ingresados y guardar el resultado (True/False) en una variable.\n",
        "    aprobado = validar_lote(ph_lote, brix_lote)\n",
        "\n",
        "    # 7. Usar un 'if' en el programa principal para comprobar el valor de esa variable.\n",
        "    # 8. Si la variable es True, imprimir \"Lote APROBADO\". Si es False, imprimir \"Lote RECHAZADO\".\n",
        "    if aprobado:\n",
        "        print(\"\\nLote APROBADO\")\n",
        "    else:\n",
        "        print(\"\\nLote RECHAZADO\")\n",
        "\n",
        "except ValueError:\n",
        "    print(\"\\nEntrada inválida. Por favor, ingresa valores numéricos para pH y Brix.\")"
      ],
      "execution_count": 10,
      "outputs": [
        {
          "output_type": "stream",
          "name": "stdout",
          "text": [
            "Ingresa el valor de pH del lote: 4\n",
            "Ingresa los grados Brix del lote: 13\n",
            "\n",
            "Lote APROBADO\n"
          ]
        }
      ]
    },
    {
      "cell_type": "markdown",
      "metadata": {
        "id": "67d07a2e"
      },
      "source": [
        "## Manejo de Errores con `try` y `except` en Python\n",
        "\n",
        "En Python, es común que los programas encuentren errores (también llamados excepciones) durante su ejecución. Estos errores pueden detener el programa de forma abrupta si no se manejan adecuadamente. Las sentencias `try` y `except` son herramientas fundamentales para controlar estos errores y permitir que tu programa continúe ejecutándose o reaccione de manera controlada.\n",
        "\n",
        "### ¿Cómo funcionan `try` y `except`?\n",
        "\n",
        "La estructura básica es la siguiente:"
      ]
    },
    {
      "cell_type": "code",
      "metadata": {
        "id": "e13da96f"
      },
      "source": [
        "try:\n",
        "    numero = int(input(\"Ingresa un número entero: \"))\n",
        "    resultado = 10 / numero\n",
        "    print(f\"El resultado es: {resultado}\")\n",
        "except ValueError:\n",
        "    print(\"Error: Debes ingresar un número entero válido.\")\n",
        "except ZeroDivisionError:\n",
        "    print(\"Error: No se puede dividir por cero.\")\n",
        "except Exception as e:\n",
        "    print(f\"Ocurrió un error inesperado: {e}\")\n",
        "else:\n",
        "    print(\"Operación exitosa.\")\n",
        "finally:\n",
        "    print(\"Fin del intento de cálculo.\")"
      ],
      "execution_count": null,
      "outputs": []
    },
    {
      "cell_type": "markdown",
      "metadata": {
        "id": "e50e2da5"
      },
      "source": [
        "## Explicación Detallada del Código: Función para Validar Parámetros de Calidad\n",
        "\n",
        "Este código Python define una función para validar si un lote de fruta cumple con ciertos parámetros de calidad (pH y grados Brix) y luego utiliza esta función en un programa principal para interactuar con el usuario.\n",
        "\n",
        "### Fragmento 1: Definición de la Función `validar_lote`"
      ]
    },
    {
      "cell_type": "code",
      "metadata": {
        "id": "ad627d57"
      },
      "source": [
        "# 1. Definir una función 'validar_lote' que tome dos parámetros: 'ph' y 'brix'.\n",
        "def validar_lote(ph, brix):\n",
        "    # 2. Dentro de la función, usar una estructura 'if' para verificar si el pH está\n",
        "    # entre 3.5 y 4.5 Y si los grados Brix son mayores a 12.\n",
        "    if 3.5 <= ph <= 4.5 and brix > 12:\n",
        "        # 3. Si ambas condiciones se cumplen, la función debe devolver el valor booleano True.\n",
        "        return True\n",
        "    else:\n",
        "        # 4. De lo contrario (else), la función debe devolver el valor booleano False.\n",
        "        return False"
      ],
      "execution_count": null,
      "outputs": []
    },
    {
      "cell_type": "code",
      "metadata": {
        "id": "b07ef784"
      },
      "source": [
        "# 5. En el programa principal, pedir al usuario el pH y los grados Brix del lote actual.\n",
        "try:\n",
        "    ph_lote = float(input(\"Ingresa el valor de pH del lote: \"))\n",
        "    brix_lote = float(input(\"Ingresa los grados Brix del lote: \"))\n",
        "\n",
        "    # 6. Llamar a la función 'validar_lote' con los datos ingresados y guardar el resultado (True/False) en una variable.\n",
        "    aprobado = validar_lote(ph_lote, brix_lote)\n",
        "\n",
        "    # 7. Usar un 'if' en el programa principal para comprobar el valor de esa variable.\n",
        "    # 8. Si la variable es True, imprimir \"Lote APROBADO\". Si es False, imprimir \"Lote RECHAZADO\".\n",
        "    if aprobado:\n",
        "        print(\"\\nLote APROBADO\")\n",
        "    else:\n",
        "        print(\"\\nLote RECHAZADO\")\n",
        "\n",
        "except ValueError:\n",
        "    print(\"\\nEntrada inválida. Por favor, ingresa valores numéricos para pH y Brix.\")"
      ],
      "execution_count": null,
      "outputs": []
    },
    {
      "cell_type": "markdown",
      "source": [
        "# Ingeniería Agroindustrial:Situación 1: Ficha Técnica de un Producto\n",
        "\n",
        "Se necesita un programa para almacenar y mostrar la\n",
        "información clave de un producto alimenticio, como su nombre, lote, fecha de vencimiento y porcentaje de humedad.\n",
        "\n",
        " Un diccionario es perfecto para esto, ya que cada dato tiene una etiqueta clara.\n",
        "• Paso a Paso del Código (Guía para el Notebook)\n",
        "1. # Crear un diccionario vacío llamado 'ficha_producto'.\n",
        "2. # Pedir al usuario el nombre del producto y guardarlo en el diccionario con la clave 'nombre'.\n",
        "3. # Pedir el número de lote y guardarlo con la clave 'lote'.\n",
        "4. # Pedir la fecha de vencimiento y guardarla con la clave 'vencimiento'.\n",
        "5. # Pedir el porcentaje de humedad y guardarlo con la clave 'humedad'.\n",
        "6. # Mostrar un encabezado que diga \"--- Ficha Técnica del Producto ---\".\n",
        "7. # Imprimir cada uno de los valores del diccionario accediendo a ellos a través\n",
        "de sus claves (ej. ficha_producto['nombre'])"
      ],
      "metadata": {
        "id": "3_ckh5Vw9W14"
      }
    },
    {
      "cell_type": "code",
      "metadata": {
        "colab": {
          "base_uri": "https://localhost:8080/"
        },
        "id": "07454f0f",
        "outputId": "074c6900-4a93-46d0-dc63-ffa8b7e4af7d"
      },
      "source": [
        "# 1. Crear un diccionario vacío llamado 'ficha_producto'.\n",
        "# 6. Mostrar un encabezado que diga \"--- Ficha Técnica del Producto ---\".\n",
        "\n",
        "while True:\n",
        "    ficha_producto = {}\n",
        "    print(\"\\n--- Ingresa los datos del Producto ---\")\n",
        "\n",
        "    # 2. Pedir al usuario el nombre del producto y guardarlo en el diccionario con la clave 'nombre'.\n",
        "    nombre_producto = input(\"Ingresa el nombre del producto (o escribe 'fin' para terminar): \")\n",
        "    if nombre_producto.lower() == 'fin':\n",
        "        break\n",
        "    ficha_producto['nombre'] = nombre_producto\n",
        "\n",
        "    # 3. Pedir el número de lote y guardarlo con la clave 'lote'.\n",
        "    ficha_producto['lote'] = input(\"Ingresa el número de lote: \")\n",
        "\n",
        "    # 4. Pedir la fecha de vencimiento y guardarla con la clave 'vencimiento'.\n",
        "    ficha_producto['vencimiento'] = input(\"Ingresa la fecha de vencimiento: \")\n",
        "\n",
        "    # 5. Pedir el porcentaje de humedad y guardarlo con la clave 'humedad'.\n",
        "    ficha_producto['humedad'] = input(\"Ingresa el porcentaje de humedad: \")\n",
        "\n",
        "\n",
        "    print(\"\\n--- Ficha Técnica del Producto ---\")\n",
        "    # 7. Imprimir cada uno de los valores del diccionario accediendo a ellos a través\n",
        "    # de sus claves (ej. ficha_producto['nombre'])\n",
        "    print(f\"Nombre: {ficha_producto['nombre']}\")\n",
        "    print(f\"Lote: {ficha_producto['lote']}\")\n",
        "    print(f\"Vencimiento: {ficha_producto['vencimiento']}\")\n",
        "    print(f\"Humedad: {ficha_producto['humedad']}\")\n",
        "\n",
        "print(\"\\nPrograma finalizado.\")"
      ],
      "execution_count": 12,
      "outputs": [
        {
          "output_type": "stream",
          "name": "stdout",
          "text": [
            "\n",
            "--- Ingresa los datos del Producto ---\n",
            "Ingresa el nombre del producto (o escribe 'fin' para terminar): mango\n",
            "Ingresa el número de lote: 123\n",
            "Ingresa la fecha de vencimiento: 12/12/2027\n",
            "Ingresa el porcentaje de humedad: 78\n",
            "\n",
            "--- Ficha Técnica del Producto ---\n",
            "Nombre: mango\n",
            "Lote: 123\n",
            "Vencimiento: 12/12/2027\n",
            "Humedad: 78\n",
            "\n",
            "--- Ingresa los datos del Producto ---\n",
            "Ingresa el nombre del producto (o escribe 'fin' para terminar): yuca\n",
            "Ingresa el número de lote: 234\n",
            "Ingresa la fecha de vencimiento: 12/12/2028\n",
            "Ingresa el porcentaje de humedad: 80\n",
            "\n",
            "--- Ficha Técnica del Producto ---\n",
            "Nombre: yuca\n",
            "Lote: 234\n",
            "Vencimiento: 12/12/2028\n",
            "Humedad: 80\n",
            "\n",
            "--- Ingresa los datos del Producto ---\n",
            "Ingresa el nombre del producto (o escribe 'fin' para terminar): fin\n",
            "\n",
            "Programa finalizado.\n"
          ]
        }
      ]
    },
    {
      "cell_type": "code",
      "source": [],
      "metadata": {
        "id": "FqKt1QzR7Goa"
      },
      "execution_count": null,
      "outputs": []
    },
    {
      "cell_type": "markdown",
      "metadata": {
        "id": "5f100246"
      },
      "source": [
        "# Task\n",
        "Modifica el código de Python para la \"Situación 1: Ficha Técnica de un Producto\" de ingeniería agroindustrial para que solicite indefinidamente los datos hasta que el usuario decida finalizar, almacene todas las fichas técnicas ingresadas en una lista de diccionarios, y finalmente guarde todos los datos recopilados en un archivo de Excel."
      ]
    },
    {
      "cell_type": "markdown",
      "metadata": {
        "id": "f83b92f8"
      },
      "source": [
        "## Instalar la librería pandas\n",
        "\n",
        "### Subtask:\n",
        "Si no está instalada, se necesita instalar la librería pandas para trabajar con DataFrames.\n"
      ]
    },
    {
      "cell_type": "markdown",
      "metadata": {
        "id": "76faf529"
      },
      "source": [
        "**Reasoning**:\n",
        "The subtask requires installing the pandas and openpyxl libraries. The `pip install` command is used for this purpose.\n",
        "\n"
      ]
    },
    {
      "cell_type": "code",
      "metadata": {
        "colab": {
          "base_uri": "https://localhost:8080/"
        },
        "id": "4cbb581f",
        "outputId": "1da96965-2f14-4778-8e6a-f92dad693258"
      },
      "source": [
        "%pip install pandas openpyxl"
      ],
      "execution_count": 13,
      "outputs": [
        {
          "output_type": "stream",
          "name": "stdout",
          "text": [
            "Requirement already satisfied: pandas in /usr/local/lib/python3.12/dist-packages (2.2.2)\n",
            "Requirement already satisfied: openpyxl in /usr/local/lib/python3.12/dist-packages (3.1.5)\n",
            "Requirement already satisfied: numpy>=1.26.0 in /usr/local/lib/python3.12/dist-packages (from pandas) (2.0.2)\n",
            "Requirement already satisfied: python-dateutil>=2.8.2 in /usr/local/lib/python3.12/dist-packages (from pandas) (2.9.0.post0)\n",
            "Requirement already satisfied: pytz>=2020.1 in /usr/local/lib/python3.12/dist-packages (from pandas) (2025.2)\n",
            "Requirement already satisfied: tzdata>=2022.7 in /usr/local/lib/python3.12/dist-packages (from pandas) (2025.2)\n",
            "Requirement already satisfied: et-xmlfile in /usr/local/lib/python3.12/dist-packages (from openpyxl) (2.0.0)\n",
            "Requirement already satisfied: six>=1.5 in /usr/local/lib/python3.12/dist-packages (from python-dateutil>=2.8.2->pandas) (1.17.0)\n"
          ]
        }
      ]
    },
    {
      "cell_type": "markdown",
      "metadata": {
        "id": "afeebc08"
      },
      "source": [
        "## Modificar el código de entrada de datos\n",
        "\n",
        "### Subtask:\n",
        "Ajustar el bucle para almacenar cada ficha de producto en una lista de diccionarios.\n"
      ]
    },
    {
      "cell_type": "markdown",
      "metadata": {
        "id": "f778b5d0"
      },
      "source": [
        "**Reasoning**:\n",
        "Initialize an empty list to store the product fiches and modify the existing loop to append each completed product fiche dictionary to this list.\n",
        "\n"
      ]
    },
    {
      "cell_type": "code",
      "metadata": {
        "colab": {
          "base_uri": "https://localhost:8080/"
        },
        "id": "bc5da1a4",
        "outputId": "6fe836b6-12bb-460b-8539-1403b82bebee"
      },
      "source": [
        "# 1. Inicializa una lista vacía llamada 'todas_las_fichas'.\n",
        "todas_las_fichas = []\n",
        "\n",
        "# 6. Mostrar un encabezado que diga \"--- Ficha Técnica del Producto ---\".\n",
        "\n",
        "while True:\n",
        "    ficha_producto = {}\n",
        "    print(\"\\n--- Ingresa los datos del Producto ---\")\n",
        "\n",
        "    # 2. Pedir al usuario el nombre del producto y guardarlo en el diccionario con la clave 'nombre'.\n",
        "    nombre_producto = input(\"Ingresa el nombre del producto (o escribe 'fin' para terminar): \")\n",
        "    if nombre_producto.lower() == 'fin':\n",
        "        break\n",
        "    ficha_producto['nombre'] = nombre_producto\n",
        "\n",
        "    # 3. Pedir el número de lote y guardarlo con la clave 'lote'.\n",
        "    ficha_producto['lote'] = input(\"Ingresa el número de lote: \")\n",
        "\n",
        "    # 4. Pedir la fecha de vencimiento y guardarla con la clave 'vencimiento'.\n",
        "    ficha_producto['vencimiento'] = input(\"Ingresa la fecha de vencimiento: \")\n",
        "\n",
        "    # 5. Pedir el porcentaje de humedad y guardarlo con la clave 'humedad'.\n",
        "    ficha_producto['humedad'] = input(\"Ingresa el porcentaje de humedad: \")\n",
        "\n",
        "    # 2. Dentro del bucle while, después de recopilar todos los datos de un producto en el diccionario\n",
        "    # ficha_producto, añade este diccionario a la lista todas_las_fichas utilizando el método .append().\n",
        "    todas_las_fichas.append(ficha_producto)\n",
        "\n",
        "    print(\"\\n--- Ficha Técnica del Producto Ingresada ---\")\n",
        "    print(f\"Nombre: {ficha_producto['nombre']}\")\n",
        "    print(f\"Lote: {ficha_producto['lote']}\")\n",
        "    print(f\"Vencimiento: {ficha_producto['vencimiento']}\")\n",
        "    print(f\"Humedad: {ficha_producto['humedad']}\")\n",
        "\n",
        "print(\"\\nPrograma de ingreso de fichas finalizado.\")"
      ],
      "execution_count": null,
      "outputs": [
        {
          "output_type": "stream",
          "name": "stdout",
          "text": [
            "\n",
            "--- Ingresa los datos del Producto ---\n"
          ]
        }
      ]
    }
  ]
}