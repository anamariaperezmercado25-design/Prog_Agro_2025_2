{
  "nbformat": 4,
  "nbformat_minor": 0,
  "metadata": {
    "colab": {
      "provenance": [],
      "authorship_tag": "ABX9TyM/eA/ULV29LNx/X/Vi93kr",
      "include_colab_link": true
    },
    "kernelspec": {
      "name": "python3",
      "display_name": "Python 3"
    },
    "language_info": {
      "name": "python"
    }
  },
  "cells": [
    {
      "cell_type": "markdown",
      "metadata": {
        "id": "view-in-github",
        "colab_type": "text"
      },
      "source": [
        "<a href=\"https://colab.research.google.com/github/anamariaperezmercado25-design/Prog_Agro_2025_2/blob/main/semanas_4_y_5_Agro.ipynb\" target=\"_parent\"><img src=\"https://colab.research.google.com/assets/colab-badge.svg\" alt=\"Open In Colab\"/></a>"
      ]
    },
    {
      "cell_type": "markdown",
      "metadata": {
        "id": "82ad44bd"
      },
      "source": [
        "## Listas, Tuplas y Diccionarios en Python\n",
        "\n",
        "Estos son tres tipos de estructuras de datos fundamentales en Python para almacenar colecciones de elementos.\n",
        "\n",
        "### Listas\n",
        "\n",
        "*   **Definición:** Son colecciones ordenadas y **mutables** de elementos. Puedes cambiar, añadir o eliminar elementos después de crear una lista.\n",
        "*   **Sintaxis:** Se definen usando corchetes `[]`, con los elementos separados por comas.\n",
        "*   **Ejemplo:** `mi_lista = [1, \"hola\", 3.14]`\n",
        "\n",
        "### Tuplas\n",
        "\n",
        "*   **Definición:** Son colecciones ordenadas e **inmutables** de elementos. Una vez que creas una tupla, no puedes modificarla.\n",
        "*   **Sintaxis:** Se definen usando paréntesis `()`, con los elementos separados por comas.\n",
        "*   **Ejemplo:** `mi_tupla = (1, \"hola\", 3.14)`\n",
        "\n",
        "### Diccionarios\n",
        "\n",
        "*   **Definición:** Son colecciones **desordenadas** de pares clave-valor. Cada elemento tiene una clave única asociada a un valor. Son **mutables**.\n",
        "*   **Sintaxis:** Se definen usando llaves `{}`, con los pares clave-valor separados por comas. La clave y el valor están separados por dos puntos `:`.\n",
        "*   **Ejemplo:** `mi_diccionario = {\"nombre\": \"Juan\", \"edad\": 30}`\n",
        "\n",
        "### Similitudes\n",
        "\n",
        "*   Los tres pueden almacenar una colección de elementos de diferentes tipos de datos.\n",
        "*   Los tres son iterables, lo que significa que puedes recorrer sus elementos.\n",
        "\n",
        "### Diferencias\n",
        "\n",
        "*   **Mutabilidad:** Las listas y los diccionarios son mutables (se pueden cambiar después de la creación), mientras que las tuplas son inmutables (no se pueden cambiar).\n",
        "*   **Orden:** Las listas y las tuplas son colecciones ordenadas (mantienen el orden de inserción de los elementos), mientras que los diccionarios son colecciones desordenadas (el orden de los elementos no está garantizado, aunque a partir de Python 3.7, mantienen el orden de inserción).\n",
        "*   **Acceso a elementos:** En listas y tuplas, se accede a los elementos por su índice numérico. En diccionarios, se accede a los elementos por su clave."
      ]
    },
    {
      "cell_type": "markdown",
      "metadata": {
        "id": "ec1e4681"
      },
      "source": [
        "## Funciones en Python: Un Bloque Fundamental de la Programación\n",
        "\n",
        "Las funciones son uno de los conceptos más importantes en la programación. En Python, una función es un bloque de código con nombre que realiza una tarea específica. Piensa en ellas como pequeñas máquinas a las que les puedes dar una entrada (argumentos) y que te devuelven un resultado (valor de retorno) después de realizar una serie de operaciones.\n",
        "\n",
        "### ¿Qué son y cómo se usan?\n",
        "\n",
        "La sintaxis básica para definir una función en Python es la siguiente:"
      ]
    },
    {
      "cell_type": "code",
      "metadata": {
        "id": "eed6ef87"
      },
      "source": [
        "# Llamada a la función con argumentos\n",
        "valor_final = nombre_de_la_funcion(argumento1, argumento2)"
      ],
      "execution_count": null,
      "outputs": []
    },
    {
      "cell_type": "markdown",
      "source": [
        "# Situación de Interés en Ingeniería Agrícola\n",
        "\n",
        "Un agrónomo consultor necesita una herramienta\n",
        "rápida para aconsejar a los agricultores sobre qué cultivos sembrar. Se requiere un programa que almacene información de varios cultivos (nombre, mes ideal de siembra, necesidad de agua) y que, al\n",
        "ingresar el nombre de un mes, recomiende qué cultivos son adecuados para sembrar en ese período.\n",
        "\n",
        "Caso de Ingeniería Agrícola: Planificador de Cultivos (Listas y Funciones)\n",
        "• Paso a Paso del Código:\n",
        "1. Crear una lista donde cada elemento sea un diccionario. Cada diccionario representará un\n",
        "cultivo y tendrá claves como nombre, mes_siembra y riego.\n",
        "2. Crear una función llamada recomendar_cultivos. Esta función recibirá dos parámetros: la\n",
        "lista completa de cultivos y el mes actual.\n",
        "3. Dentro de la función, usar un bucle for para recorrer la lista de cultivos.\n",
        "4. En cada iteración, usar un if para comprobar si el mes_siembra del cultivo coincide con el mes\n",
        "proporcionado.\n",
        "5. Si coinciden, añadir el nombre del cultivo a una nueva lista de recomendados.\n",
        "6. Al final, la función debe devolver la lista de cultivos recomendados.\n",
        "7. En el programa principal, pedir al usuario el mes y llamar a la función para obtener e imprimir\n",
        "las recomendaciones."
      ],
      "metadata": {
        "id": "AHRY_4XQ1orn"
      }
    },
    {
      "cell_type": "code",
      "metadata": {
        "id": "9736eacd"
      },
      "source": [
        "# 1. Crear una lista donde cada elemento sea un diccionario.\n",
        "cultivos = [\n",
        "    {\"nombre\": \"Maíz\", \"mes_siembra\": \"Abril\", \"riego\": \"Medio\"},\n",
        "    {\"nombre\": \"Trigo\", \"mes_siembra\": \"Octubre\", \"riego\": \"Bajo\"},\n",
        "    {\"nombre\": \"Tomate\", \"mes_siembra\": \"Marzo\", \"riego\": \"Alto\"},\n",
        "    {\"nombre\": \"Lechuga\", \"mes_siembra\": \"Mayo\", \"riego\": \"Medio\"},\n",
        "    {\"nombre\": \"Frijol\", \"mes_siembra\": \"Junio\", \"riego\": \"Medio\"},\n",
        "]"
      ],
      "execution_count": 1,
      "outputs": []
    },
    {
      "cell_type": "code",
      "metadata": {
        "id": "5530f51e"
      },
      "source": [
        "# 2. Crear una función llamada recomendar_cultivos.\n",
        "def recomendar_cultivos(lista_cultivos, mes_actual):\n",
        "    # 5. Si coinciden, añadir el nombre del cultivo a una nueva lista de recomendados.\n",
        "    recomendados = []\n",
        "    # 3. Dentro de la función, usar un bucle for para recorrer la lista de cultivos.\n",
        "    for cultivo in lista_cultivos:\n",
        "        # 4. En cada iteración, usar un if para comprobar si el mes_siembra del cultivo coincide con el mes proporcionado.\n",
        "        if cultivo[\"mes_siembra\"].lower() == mes_actual.lower():\n",
        "            recomendados.append(cultivo[\"nombre\"])\n",
        "    # 6. Al final, la función debe devolver la lista de cultivos recomendados.\n",
        "    return recomendados"
      ],
      "execution_count": 2,
      "outputs": []
    },
    {
      "cell_type": "code",
      "metadata": {
        "colab": {
          "base_uri": "https://localhost:8080/"
        },
        "id": "39b2613d",
        "outputId": "48bd8851-8e29-496e-8465-d4d6df5a037e"
      },
      "source": [
        "# 7. En el programa principal, pedir al usuario el mes y llamar a la función para obtener e imprimir las recomendaciones.\n",
        "mes_ingresado = input(\"Ingresa el mes actual para obtener recomendaciones de siembra: \")\n",
        "\n",
        "recomendaciones = recomendar_cultivos(cultivos, mes_ingresado)\n",
        "\n",
        "if recomendaciones:\n",
        "    print(f\"\\nCultivos recomendados para sembrar en {mes_ingresado}:\")\n",
        "    for cultivo in recomendaciones:\n",
        "        print(f\"- {cultivo}\")\n",
        "else:\n",
        "    print(f\"\\nNo hay cultivos recomendados para sembrar en {mes_ingresado}.\")"
      ],
      "execution_count": 6,
      "outputs": [
        {
          "output_type": "stream",
          "name": "stdout",
          "text": [
            "Ingresa el mes actual para obtener recomendaciones de siembra: junio\n",
            "\n",
            "Cultivos recomendados para sembrar en junio:\n",
            "- Frijol\n"
          ]
        }
      ]
    },
    {
      "cell_type": "markdown",
      "metadata": {
        "id": "243f09a8"
      },
      "source": [
        "## Explicación Detallada del Código: Planificador de Cultivos\n",
        "\n",
        "Este código Python organiza información sobre cultivos y recomienda cuáles sembrar basándose en el mes actual, utilizando **listas** y **funciones**.\n",
        "\n",
        "### Fragmento 1: Definición de los Datos de Cultivos"
      ]
    },
    {
      "cell_type": "code",
      "metadata": {
        "id": "d87b9d64"
      },
      "source": [
        "def recomendar_cultivos(lista_cultivos, mes_actual):\n",
        "    recomendados = []\n",
        "    for cultivo in lista_cultivos:\n",
        "        if cultivo[\"mes_siembra\"].lower() == mes_actual.lower():\n",
        "            recomendados.append(cultivo[\"nombre\"])\n",
        "    return recomendados"
      ],
      "execution_count": null,
      "outputs": []
    },
    {
      "cell_type": "code",
      "metadata": {
        "id": "53504c54"
      },
      "source": [
        "mes_ingresado = input(\"Ingresa el mes actual para obtener recomendaciones de siembra: \")\n",
        "\n",
        "recomendaciones = recomendar_cultivos(cultivos, mes_ingresado)\n",
        "\n",
        "if recomendaciones:\n",
        "    print(f\"\\nCultivos recomendados para sembrar en {mes_ingresado}:\")\n",
        "    for cultivo in recomendaciones:\n",
        "        print(f\"- {cultivo}\")\n",
        "else:\n",
        "    print(f\"\\nNo hay cultivos recomendados para sembrar en {mes_ingresado}.\")"
      ],
      "execution_count": null,
      "outputs": []
    },
    {
      "cell_type": "markdown",
      "metadata": {
        "id": "793c4bc7"
      },
      "source": [
        "## Explicación del Código: Planificador de Cultivos\n",
        "\n",
        "Este código Python implementa un sencillo planificador de cultivos utilizando listas y funciones para ayudar a un agrónomo a recomendar cultivos basados en el mes actual.\n",
        "\n",
        "### 1. Definición de los Datos de Cultivos (Lista de Diccionarios)\n",
        "\n",
        "La primera parte del código crea una estructura de datos para almacenar la información de los cultivos. Se utiliza una **lista** (`cultivos`) donde cada elemento de la lista es un **diccionario**.\n",
        "\n",
        "*   **Lista (`cultivos = [...]`):** La lista es una colección ordenada y mutable que nos permite almacenar múltiples elementos (en este caso, diccionarios) bajo un solo nombre de variable.\n",
        "*   **Diccionarios (`{\"nombre\": ..., \"mes_siembra\": ..., \"riego\": ...}`):** Cada diccionario representa un cultivo individual. Los diccionarios son colecciones desordenadas de pares clave-valor. Cada clave (como `\"nombre\"`, `\"mes_siembra\"`, `\"riego\"`) está asociada a un valor específico que describe una característica del cultivo. Esto nos permite organizar la información de cada cultivo de manera estructurada."
      ]
    },
    {
      "cell_type": "code",
      "metadata": {
        "id": "f41125b0"
      },
      "source": [
        "def recomendar_cultivos(lista_cultivos, mes_actual):\n",
        "    recomendados = []\n",
        "    for cultivo in lista_cultivos:\n",
        "        if cultivo[\"mes_siembra\"].lower() == mes_actual.lower():\n",
        "            recomendados.append(cultivo[\"nombre\"])\n",
        "    return recomendados"
      ],
      "execution_count": null,
      "outputs": []
    },
    {
      "cell_type": "code",
      "metadata": {
        "id": "0790fe84"
      },
      "source": [
        "mes_ingresado = input(\"Ingresa el mes actual para obtener recomendaciones de siembra: \")\n",
        "\n",
        "recomendaciones = recomendar_cultivos(cultivos, mes_ingresado)\n",
        "\n",
        "if recomendaciones:\n",
        "    print(f\"\\nCultivos recomendados para sembrar en {mes_ingresado}:\")\n",
        "    for cultivo in recomendaciones:\n",
        "        print(f\"- {cultivo}\")\n",
        "else:\n",
        "    print(f\"\\nNo hay cultivos recomendados para sembrar en {mes_ingresado}.\")"
      ],
      "execution_count": null,
      "outputs": []
    }
  ]
}