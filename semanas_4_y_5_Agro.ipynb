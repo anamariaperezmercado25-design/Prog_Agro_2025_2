{
  "nbformat": 4,
  "nbformat_minor": 0,
  "metadata": {
    "colab": {
      "provenance": [],
      "authorship_tag": "ABX9TyNwT1eMCiv1DzKX7YTGSeVc",
      "include_colab_link": true
    },
    "kernelspec": {
      "name": "python3",
      "display_name": "Python 3"
    },
    "language_info": {
      "name": "python"
    }
  },
  "cells": [
    {
      "cell_type": "markdown",
      "metadata": {
        "id": "view-in-github",
        "colab_type": "text"
      },
      "source": [
        "<a href=\"https://colab.research.google.com/github/anamariaperezmercado25-design/Prog_Agro_2025_2/blob/main/semanas_4_y_5_Agro.ipynb\" target=\"_parent\"><img src=\"https://colab.research.google.com/assets/colab-badge.svg\" alt=\"Open In Colab\"/></a>"
      ]
    },
    {
      "cell_type": "markdown",
      "metadata": {
        "id": "82ad44bd"
      },
      "source": [
        "## Listas, Tuplas y Diccionarios en Python\n",
        "\n",
        "Estos son tres tipos de estructuras de datos fundamentales en Python para almacenar colecciones de elementos.\n",
        "\n",
        "### Listas\n",
        "\n",
        "*   **Definición:** Son colecciones ordenadas y **mutables** de elementos. Puedes cambiar, añadir o eliminar elementos después de crear una lista.\n",
        "*   **Sintaxis:** Se definen usando corchetes `[]`, con los elementos separados por comas.\n",
        "*   **Ejemplo:** `mi_lista = [1, \"hola\", 3.14]`\n",
        "\n",
        "### Tuplas\n",
        "\n",
        "*   **Definición:** Son colecciones ordenadas e **inmutables** de elementos. Una vez que creas una tupla, no puedes modificarla.\n",
        "*   **Sintaxis:** Se definen usando paréntesis `()`, con los elementos separados por comas.\n",
        "*   **Ejemplo:** `mi_tupla = (1, \"hola\", 3.14)`\n",
        "\n",
        "### Diccionarios\n",
        "\n",
        "*   **Definición:** Son colecciones **desordenadas** de pares clave-valor. Cada elemento tiene una clave única asociada a un valor. Son **mutables**.\n",
        "*   **Sintaxis:** Se definen usando llaves `{}`, con los pares clave-valor separados por comas. La clave y el valor están separados por dos puntos `:`.\n",
        "*   **Ejemplo:** `mi_diccionario = {\"nombre\": \"Juan\", \"edad\": 30}`\n",
        "\n",
        "### Similitudes\n",
        "\n",
        "*   Los tres pueden almacenar una colección de elementos de diferentes tipos de datos.\n",
        "*   Los tres son iterables, lo que significa que puedes recorrer sus elementos.\n",
        "\n",
        "### Diferencias\n",
        "\n",
        "*   **Mutabilidad:** Las listas y los diccionarios son mutables (se pueden cambiar después de la creación), mientras que las tuplas son inmutables (no se pueden cambiar).\n",
        "*   **Orden:** Las listas y las tuplas son colecciones ordenadas (mantienen el orden de inserción de los elementos), mientras que los diccionarios son colecciones desordenadas (el orden de los elementos no está garantizado, aunque a partir de Python 3.7, mantienen el orden de inserción).\n",
        "*   **Acceso a elementos:** En listas y tuplas, se accede a los elementos por su índice numérico. En diccionarios, se accede a los elementos por su clave."
      ]
    },
    {
      "cell_type": "markdown",
      "metadata": {
        "id": "e4158b29"
      },
      "source": [
        "## Funciones en Python\n",
        "\n",
        "Las funciones son bloques de código reutilizables que realizan una tarea específica. Permiten organizar el código, hacerlo más legible y evitar la repetición.\n",
        "\n",
        "### Uso de Funciones\n",
        "\n",
        "*   **Definición:** Se definen usando la palabra clave `def`, seguida del nombre de la función, paréntesis `()` y dos puntos `:`. El código de la función va indentado debajo de la definición.\n",
        "*   **Parámetros y Argumentos:** Las funciones pueden aceptar valores de entrada llamados parámetros, que se especifican dentro de los paréntesis al definirlas. Cuando llamas a la función, le pasas valores concretos llamados argumentos.\n",
        "*   **Retorno de Valores:** Las funciones pueden devolver un valor usando la palabra clave `return`. Si no se usa `return`, la función devuelve `None` por defecto.\n",
        "*   **Llamada a la Función:** Para ejecutar el código dentro de una función, simplemente escribes el nombre de la función seguido de paréntesis `()`.\n",
        "\n",
        "**Ejemplo:**"
      ]
    }
  ]
}